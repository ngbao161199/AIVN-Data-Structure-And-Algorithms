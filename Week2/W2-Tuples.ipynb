{
 "cells": [
  {
   "cell_type": "markdown",
   "metadata": {},
   "source": [
    "# Kiểu dữ liệu (Lớp) Tuples trong Python\n",
    "\n"
   ]
  },
  {
   "cell_type": "markdown",
   "metadata": {},
   "source": [
    "<b>Tuples</b> là chuỗi cũng tượng tự như <b>List</b> và được sử dụng rất nhiều trong các chương trình Python. \n",
    "<p>\n",
    "    Một <b>Tuple</b> gồm các yếu tố sau:\n",
    "    <li> Được giới hạn bởi cặp ngoặc (), tất cả những gì nằm trong đó là những phần tử của Tuple.</li>\n",
    "    <li>Các phần tử của <b>Tuple</b> được phân cách nhau ra bởi dấu phẩy.</li>\n",
    "    <li>Tuple có khả năng chứa mọi giá trị, đối tượng trong Python.</li>\n",
    "<p>\n",
    "    Sự khác biệt chính giữa <b>Tuples</b> và <b>List</b> nằm ở việc <b>Tuples</b> là bộ dữ liệu không thể thay đổi được. Tuples sử dụng dấu ngoặc đơn (), trong khi <b>List</b> sử dụng dấu ngoặc vuông [].\n"
   ]
  },
  {
   "cell_type": "markdown",
   "metadata": {},
   "source": [
    "## Cách khởi tạo một Tuple"
   ]
  },
  {
   "cell_type": "markdown",
   "metadata": {},
   "source": [
    "Để tạo một <b>Tuple</b> đơn giản như đặt các giá trị được phân tách bằng dấu phẩy khác nhau. Và theo tùy chọn, bạn cũng có thể đặt các giá trị được phân tách bằng dấu phẩy này giữa các dấu ngoặc đơn.\n",
    "<p><b>Cú pháp</b>: ( giá trị thứ nhất, giá trị thứ hai, .., giá trị thứ n – 1, giá trị thứ n)\n",
    "<p>Ví dụ:"
   ]
  },
  {
   "cell_type": "code",
   "execution_count": 10,
   "metadata": {},
   "outputs": [
    {
     "data": {
      "text/plain": [
       "('AI', 'VIETNAM', 2019)"
      ]
     },
     "execution_count": 10,
     "metadata": {},
     "output_type": "execute_result"
    }
   ],
   "source": [
    "tup1 = ('AI', 'VIETNAM', 2019) # Một Tuples chứa cả chuỗi và số nguyên\n",
    "\n",
    "tup1"
   ]
  },
  {
   "cell_type": "code",
   "execution_count": 7,
   "metadata": {},
   "outputs": [
    {
     "data": {
      "text/plain": [
       "(0, 1, 2, 3, 4)"
      ]
     },
     "execution_count": 7,
     "metadata": {},
     "output_type": "execute_result"
    }
   ],
   "source": [
    "tup2 = (0, 1, 2, 3, 4) # Một Tuples chứa các số nguyên\n",
    "\n",
    "tup2"
   ]
  },
  {
   "cell_type": "code",
   "execution_count": 8,
   "metadata": {},
   "outputs": [
    {
     "data": {
      "text/plain": [
       "('A', 'I', 'VIET', 'NAM')"
      ]
     },
     "execution_count": 8,
     "metadata": {},
     "output_type": "execute_result"
    }
   ],
   "source": [
    "tup3 = ('A', 'I', 'VIET', 'NAM') # Một Tuples chỉ chứa chuỗi\n",
    "\n",
    "tup3"
   ]
  },
  {
   "cell_type": "code",
   "execution_count": 9,
   "metadata": {},
   "outputs": [
    {
     "data": {
      "text/plain": [
       "([2, 0], (1, 9))"
      ]
     },
     "execution_count": 9,
     "metadata": {},
     "output_type": "execute_result"
    }
   ],
   "source": [
    "tup3 = ([2, 0], (1, 9)) # Một Tuples chứa List lẫn một Tuples (1, 9) khác\n",
    "\n",
    "tup3"
   ]
  },
  {
   "cell_type": "code",
   "execution_count": 11,
   "metadata": {},
   "outputs": [
    {
     "data": {
      "text/plain": [
       "(2019, 'AI VIETNAM', [2019, 'AI VIETNAM'])"
      ]
     },
     "execution_count": 11,
     "metadata": {},
     "output_type": "execute_result"
    }
   ],
   "source": [
    "tup4 = (2019, 'AI VIETNAM', [2019, 'AI VIETNAM']) # Một Tuples chứa số nguyên, chuỗi lẫn List\n",
    "\n",
    "tup4"
   ]
  },
  {
   "cell_type": "markdown",
   "metadata": {},
   "source": [
    "Một <b>Tuple</b> rỗng sẽ được viết dưới dạng hai dấu ngoặc đơn không chứa gì như sau:"
   ]
  },
  {
   "cell_type": "code",
   "execution_count": 5,
   "metadata": {},
   "outputs": [],
   "source": [
    "tup1 = ();"
   ]
  },
  {
   "cell_type": "markdown",
   "metadata": {},
   "source": [
    "Để viết một <b>Tuple</b> chứa một giá trị duy nhất, bạn phải bao gồm dấu phẩy, mặc dù chỉ có một giá trị.\n",
    "<p><b>VÌ SAO??? HÃY KIỂM TRA THỬ NHÉ!</b>"
   ]
  },
  {
   "cell_type": "code",
   "execution_count": 12,
   "metadata": {},
   "outputs": [
    {
     "data": {
      "text/plain": [
       "2019"
      ]
     },
     "execution_count": 12,
     "metadata": {},
     "output_type": "execute_result"
    }
   ],
   "source": [
    "tup1 = (2019) # Tuple có một giá trị là sô nguyên 2019\n",
    "\n",
    "tup1 # Kiểm thử kết quả"
   ]
  },
  {
   "cell_type": "code",
   "execution_count": 13,
   "metadata": {},
   "outputs": [
    {
     "data": {
      "text/plain": [
       "int"
      ]
     },
     "execution_count": 13,
     "metadata": {},
     "output_type": "execute_result"
    }
   ],
   "source": [
    "# Rõ ràng kết quả trên không phải là Tuple. Ta sẽ kiểm tra tiếp kiểu dữ liệu của nó nhé\n",
    "\n",
    "type(tup1) # Bạn sẽ thấy rằng đây vẫn là kiểu int, không phải là một Tuple."
   ]
  },
  {
   "cell_type": "code",
   "execution_count": 15,
   "metadata": {},
   "outputs": [
    {
     "name": "stdout",
     "output_type": "stream",
     "text": [
      "AI VIETNAM\n"
     ]
    },
    {
     "data": {
      "text/plain": [
       "str"
      ]
     },
     "execution_count": 15,
     "metadata": {},
     "output_type": "execute_result"
    }
   ],
   "source": [
    "tup2 = (\"AI VIETNAM\") # Tiếp tục một trường hợp tương tự với kiểu string\n",
    "\n",
    "print(tup2)\n",
    "type(tup2) # Kiểu dữ liệu trả về là một kiểu string!"
   ]
  },
  {
   "cell_type": "markdown",
   "metadata": {},
   "source": [
    "Tại sao khi khởi tạo một Tuple với một phần tử thì kiểu kiểu dữ liệu của Tuple đó lại là kiểu dữ liệu của phần tử duy nhất đó?\n",
    "<p>Điều đó có thể giải thích một cách đơn giản rằng khi bạn viết một giá trị nào đó đặt trong cặp dấu ngoặc () thì nó được xem là một giá trị.\n",
    "<p><b>Vì sao lại phải xem là một giá trị?</b>\n",
    "<p>Vì trong lúc ta tính toán, theo thứ tự thì cặp ngoặc () sẽ được ưu tiên. Cùng AI VIETNAM đi vào kiến thức cơ bản nhé!"
   ]
  },
  {
   "cell_type": "code",
   "execution_count": 17,
   "metadata": {},
   "outputs": [
    {
     "data": {
      "text/plain": [
       "11"
      ]
     },
     "execution_count": 17,
     "metadata": {},
     "output_type": "execute_result"
    }
   ],
   "source": [
    " 2 + 1 * 9 # Xét theo toán học thuần tuý thì phép tính này theo nguyên tắc nhân chia trước, cộng trừ sau."
   ]
  },
  {
   "cell_type": "code",
   "execution_count": 19,
   "metadata": {},
   "outputs": [
    {
     "data": {
      "text/plain": [
       "27"
      ]
     },
     "execution_count": 19,
     "metadata": {},
     "output_type": "execute_result"
    }
   ],
   "source": [
    "(2 + 1) * 9 # Bạn thấy đấy, khi ta đưa vào ngoặc () thì nó đã trở thành một giá trị."
   ]
  },
  {
   "cell_type": "markdown",
   "metadata": {},
   "source": [
    "#### Bây giờ hãy cùng AI VIETNAM tạo thử một Tuple chứa giá trị duy nhất hợp lệ nhé "
   ]
  },
  {
   "cell_type": "code",
   "execution_count": 21,
   "metadata": {},
   "outputs": [
    {
     "name": "stdout",
     "output_type": "stream",
     "text": [
      "(2019,)\n"
     ]
    },
    {
     "data": {
      "text/plain": [
       "tuple"
      ]
     },
     "execution_count": 21,
     "metadata": {},
     "output_type": "execute_result"
    }
   ],
   "source": [
    "tup1 = (2019,)\n",
    "\n",
    "print(tup1)\n",
    "type(tup1)"
   ]
  },
  {
   "cell_type": "markdown",
   "metadata": {},
   "source": [
    "Bên cạnh đó, giống như các chỉ số chuỗi, các chỉ số <b>Tuple</b> bắt đầu từ 0 và chúng có thể được cắt, nối, v.v."
   ]
  },
  {
   "cell_type": "markdown",
   "metadata": {},
   "source": [
    "# Một số toán tử cơ bản trong Tuple\n",
    "\n",
    "<b>Tuples</b> đáp ứng với các toán tử + và * giống như các chuỗi; ngoại trừ kết quả là một bộ dữ liệu mới, không phải là một chuỗi.<p>\n",
    "    Trong thực tế, <b>Tuples</b> đáp ứng với tất cả các hoạt động chuỗi chung mà chúng ta đã sử dụng trên các chuỗi.\n",
    "    \n",
    "| **Biểu diễn trong Python** | **Kết quả** | **Chi tiết** |\n",
    "| --- | --- | --- |\n",
    "| len((1, 2, 3)) | 3 | Độ dài |\n",
    "| (1, 2, 3) + (4, 5, 6) | (1, 2, 3, 4, 5, 6) | Ghép |\n",
    "| (0,) * 4 | (0, 0, 0, 0) | Nhân |\n",
    "| \"AI\" in (\"AI\", \"VIETNAM\") | True | Kiểm tra thành viên |\n",
    "    | for x in (3,2,1) : print (x, end = ' ') | 3 2 1 | Vòng lặp |"
   ]
  },
  {
   "cell_type": "markdown",
   "metadata": {},
   "source": [
    "# Index, cắt và truy cập dạng ma trận trong Tuple\n",
    "\n",
    "Ví dụ ta có một Tuple như sau:"
   ]
  },
  {
   "cell_type": "code",
   "execution_count": 47,
   "metadata": {},
   "outputs": [
    {
     "name": "stdout",
     "output_type": "stream",
     "text": [
      "(3, 4, 5)\n",
      "('AI', 'VIETNAM')\n",
      "([2, 0, 1, 9], (3, 4, 5), ('AI', 'VIETNAM'))\n",
      "([2, 0, 1, 9], (3, 4, 5))\n",
      "9\n",
      "(4, 5)\n"
     ]
    }
   ],
   "source": [
    "tuple = ('AI VIETNAM', [2, 0, 1, 9], (3, 4, 5), ('AI', 'VIETNAM'))\n",
    "\n",
    "print(tuple[2])\n",
    "\n",
    "print(tuple[-1])\n",
    "\n",
    "print(tuple[1:])\n",
    "\n",
    "print(tuple[1:3])\n",
    "\n",
    "# Thao tác ma trận trong Tuple\n",
    "\n",
    "print(tuple[1][-1])\n",
    "print(tuple[2][1:])"
   ]
  },
  {
   "cell_type": "markdown",
   "metadata": {},
   "source": [
    "# Làm thế nào để truy cập giá trị trong Tuple?"
   ]
  },
  {
   "cell_type": "markdown",
   "metadata": {},
   "source": [
    "Để truy cập các giá trị trong tuple, hãy sử dụng dấu ngoặc vuông để cắt cùng với chỉ mục hoặc chỉ mục để lấy giá trị có sẵn tại chỉ mục đó.<p>\n",
    "Ví dụ:"
   ]
  },
  {
   "cell_type": "code",
   "execution_count": 22,
   "metadata": {},
   "outputs": [
    {
     "name": "stdout",
     "output_type": "stream",
     "text": [
      "tup1[0]:  AI\n",
      "tup2[1:5]:  (1, 2, 3, 4)\n"
     ]
    }
   ],
   "source": [
    "tup1 = ('AI', 'VIETNAM', 2019) # Một Tuples chứa cả chuỗi và số nguyên\n",
    "tup2 = (0, 1, 2, 3, 4) # Một Tuples chứa các số nguyên\n",
    "\n",
    "print (\"tup1[0]: \", tup1[0]) # Ta truy cập giá trị 0 - tức giá trị đầu tiên của tup1\n",
    "print (\"tup2[1:5]: \", tup2[1:5]) # Tương tự như trên"
   ]
  },
  {
   "cell_type": "markdown",
   "metadata": {},
   "source": [
    "# Làm thế nào để cập nhật giá trị trong Tuple?\n",
    "\n",
    "<b>Tuple</b> vốn bất biến, có nghĩa là bạn không thể cập nhật hoặc thay đổi giá trị của các phần tử của chúng. \n",
    "<p>Tuy nhiên, bạn có thể lấy các phần của các bộ dữ liệu của <b>Tuple</b> hiện có để tạo ra <b>Tuple</b> mới.<p> \n",
    "Ví dụ như sau:"
   ]
  },
  {
   "cell_type": "code",
   "execution_count": 25,
   "metadata": {},
   "outputs": [
    {
     "ename": "TypeError",
     "evalue": "'tuple' object does not support item assignment",
     "output_type": "error",
     "traceback": [
      "\u001b[1;31m---------------------------------------------------------------------------\u001b[0m",
      "\u001b[1;31mTypeError\u001b[0m                                 Traceback (most recent call last)",
      "\u001b[1;32m<ipython-input-25-687fd5ba9509>\u001b[0m in \u001b[0;36m<module>\u001b[1;34m\u001b[0m\n\u001b[0;32m      3\u001b[0m \u001b[1;33m\u001b[0m\u001b[0m\n\u001b[0;32m      4\u001b[0m \u001b[1;31m# Nếu ta thực hiện hành động này sẽ không hợp lệ\u001b[0m\u001b[1;33m\u001b[0m\u001b[1;33m\u001b[0m\u001b[1;33m\u001b[0m\u001b[0m\n\u001b[1;32m----> 5\u001b[1;33m \u001b[0mtup1\u001b[0m\u001b[1;33m[\u001b[0m\u001b[1;36m0\u001b[0m\u001b[1;33m]\u001b[0m \u001b[1;33m=\u001b[0m \u001b[1;36m100\u001b[0m\u001b[1;33m;\u001b[0m\u001b[1;33m\u001b[0m\u001b[1;33m\u001b[0m\u001b[0m\n\u001b[0m\u001b[0;32m      6\u001b[0m \u001b[1;33m\u001b[0m\u001b[0m\n",
      "\u001b[1;31mTypeError\u001b[0m: 'tuple' object does not support item assignment"
     ]
    }
   ],
   "source": [
    "tup1 = ('AI', 'VIETNAM', 2019) # Một Tuples chứa cả chuỗi và số nguyên\n",
    "tup2 = (0, 1, 2, 3, 4) # Một Tuples chứa các số nguyên\n",
    "\n",
    "# Nếu ta thực hiện hành động này sẽ không hợp lệ\n",
    "tup1[0] = 100;"
   ]
  },
  {
   "cell_type": "code",
   "execution_count": 26,
   "metadata": {},
   "outputs": [
    {
     "name": "stdout",
     "output_type": "stream",
     "text": [
      "('AI', 'VIETNAM', 2019, 0, 1, 2, 3, 4)\n"
     ]
    }
   ],
   "source": [
    "# Thay vào đó, ta sẽ thực hiện theo cách này!\n",
    "tup3 = tup1 + tup2\n",
    "print (tup3)"
   ]
  },
  {
   "cell_type": "markdown",
   "metadata": {},
   "source": [
    "### Tuy nhiên, cũng có một điểm thú vị rằng vẫn có một cách để giúp ta cập nhật giá trị trong Tuple\n",
    "\n",
    "Đầu tiên, ta sẽ nói về Hash object. Hash object là một đối tượng bạn không thể thay đổi nội dung của nó. Và trong phần thay đổi nội dung Tuple, bạn cũng thấy ta không thể thay đổi giá trị ở bên trong Tuple.\n",
    "<p>Tuy nhiên, giá trị bên trong Tuple đó là một List. Và, List là một unhash object => Ta có thể thay đổi nội dung của nó."
   ]
  },
  {
   "cell_type": "code",
   "execution_count": 51,
   "metadata": {},
   "outputs": [
    {
     "name": "stdout",
     "output_type": "stream",
     "text": [
      "Before:\n",
      "AI\n",
      "2019\n",
      "After:\n",
      "AI\n",
      "VIETNAM\n",
      "(['AI', 'VIETNAM'],)\n"
     ]
    }
   ],
   "source": [
    "tuple = ([\"AI\", 2019],)\n",
    "\n",
    "print(\"Before:\")\n",
    "print(tuple[0][0])\n",
    "print(tuple[0][1])\n",
    "\n",
    "# Ta sẽ thử thay đổi List bên trong Tuple.\n",
    "tuple[0][1] = \"VIETNAM\"\n",
    "print(\"After:\")\n",
    "print(tuple[0][0])\n",
    "print(tuple[0][1])\n",
    "print(tuple)"
   ]
  },
  {
   "cell_type": "markdown",
   "metadata": {},
   "source": [
    "Về cụm từ <b>Hash</b>, tản mạn một chút về công nghệ thì trong giai đoạn 2017 thế giới cũng đã từng một phen hốt hoảng khi giá trị của những đồng tiền ảo như Bitcoin, Etherium,... tăng vọt và khiến thị trường thêm biến động.\n",
    "<p>Bạn có biết rằng đằng sau chúng chính là công nghệ Blockchain với cơ sở là **hash function (hàm băm)** vốn có tính chất một chiều nên thông tin không thể thay đổi được sau khi bị “băm”. \n",
    "    <p>Nếu bạn mong muốn đi chuyên sâu vào lĩnh vực Công nghệ thông tin và đặc biệt ở lĩnh vực Blockchain này, hãy nắm vững kiến thức **Bảng băm** - một kiến thức nền tảng cơ bản của lập trình viên, bạn nhé!"
   ]
  },
  {
   "cell_type": "markdown",
   "metadata": {},
   "source": [
    "# Làm thế nào để xoá đi một giá trị trong Tuple?\n",
    "\n",
    "Loại bỏ các giá trị cá nhân trong Tuple là điều không thể. Tất nhiên, không có gì sai khi kết hợp một bộ dữ liệu khác với các yếu tố không mong muốn bị loại bỏ.<p>\n",
    "    Song, nếu bạn muốn xoá toàn bộ Tuple, bạn có thể sử dụng lệnh <b>del</b> như sau:"
   ]
  },
  {
   "cell_type": "code",
   "execution_count": 29,
   "metadata": {},
   "outputs": [
    {
     "name": "stdout",
     "output_type": "stream",
     "text": [
      "(0, 1, 2, 3, 4)\n",
      "After deleting tup : \n"
     ]
    },
    {
     "ename": "NameError",
     "evalue": "name 'tup2' is not defined",
     "output_type": "error",
     "traceback": [
      "\u001b[1;31m---------------------------------------------------------------------------\u001b[0m",
      "\u001b[1;31mNameError\u001b[0m                                 Traceback (most recent call last)",
      "\u001b[1;32m<ipython-input-29-7848bb825bbf>\u001b[0m in \u001b[0;36m<module>\u001b[1;34m\u001b[0m\n\u001b[0;32m      4\u001b[0m \u001b[1;32mdel\u001b[0m \u001b[0mtup2\u001b[0m\u001b[1;33m;\u001b[0m\u001b[1;33m\u001b[0m\u001b[1;33m\u001b[0m\u001b[0m\n\u001b[0;32m      5\u001b[0m \u001b[0mprint\u001b[0m \u001b[1;33m(\u001b[0m\u001b[1;34m\"After deleting tup : \"\u001b[0m\u001b[1;33m)\u001b[0m\u001b[1;33m\u001b[0m\u001b[1;33m\u001b[0m\u001b[0m\n\u001b[1;32m----> 6\u001b[1;33m \u001b[0mprint\u001b[0m \u001b[1;33m(\u001b[0m\u001b[0mtup2\u001b[0m\u001b[1;33m)\u001b[0m\u001b[1;33m\u001b[0m\u001b[1;33m\u001b[0m\u001b[0m\n\u001b[0m",
      "\u001b[1;31mNameError\u001b[0m: name 'tup2' is not defined"
     ]
    }
   ],
   "source": [
    "tup2 = (0, 1, 2, 3, 4)\n",
    "\n",
    "print (tup2)\n",
    "del tup2;\n",
    "print (\"After deleting tup : \")\n",
    "print (tup2)"
   ]
  },
  {
   "cell_type": "markdown",
   "metadata": {},
   "source": [
    "Nhận được thông báo này tức là Tuple cũng đã không còn tồn tại nữa rồi."
   ]
  },
  {
   "cell_type": "markdown",
   "metadata": {},
   "source": [
    "# Tuple hay List - Cái nào cần - Khi nào nên chọn ?\n",
    "\n",
    "Tuple khác List ở chỗ Tuple không cho phép bạn sửa chữa nội dung, còn List thì có. Vì đặc điểm đó, Tuple mạnh hơn List ở những điểm sau:\n",
    "<li>Tốc độ truy xuất của Tuple nhanh hơn so với List</li>\n",
    "<li>Dung lượng chiếm trong bộ nhớ của Tuple nhỏ hơn so với List</li>\n",
    "<li>Bảo vệ dữ liệu của bạn sẽ không bị thay đổi</li>\n",
    "<li>Có thể dùng làm key của Dictonary (một kiểu dữ liệu sẽ được giới thiệu). Điều mà List không thể vì List là unhash object.</li>\n",
    "<li>Những điểm trên là những điều giúp bạn có thể cân nhắc việc chọn Tuple hay List để lưu dữ dữ liệu dưới một mảng.</li>"
   ]
  },
  {
   "cell_type": "markdown",
   "metadata": {},
   "source": [
    "# Một số hàm hữu ích trong Tuple\n",
    "\n",
    "| Tên hàm (đính kèm Hyperlink) | Chức năng |\n",
    "| --- | --- |\n",
    "| [cmp(tuple1, tuple2)](https://www.tutorialspoint.com/python3/tuple_cmp.htm) | So sánh giá trị giữa 2 Tuple |\n",
    "| [len(tuple)](https://www.tutorialspoint.com/python3/tuple_len.htm) | Trả về độ dài của Tuple |\n",
    "| [max(tuple)](https://www.tutorialspoint.com/python3/tuple_max.htm) | Trả về giá trị lớn nhất trong Tuple |\n",
    "| (min(tuple)](https://www.tutorialspoint.com/python3/tuple_min.htm) | Trả về giá trị nhỏ nhất trong Tuple |\n",
    "| (tuple(seq))[https://www.tutorialspoint.com/python3/tuple_tuple.htm] | Chuyển đổi List thành Tuple |"
   ]
  },
  {
   "cell_type": "code",
   "execution_count": null,
   "metadata": {},
   "outputs": [],
   "source": []
  }
 ],
 "metadata": {
  "kernelspec": {
   "display_name": "Python 3",
   "language": "python",
   "name": "python3"
  },
  "language_info": {
   "codemirror_mode": {
    "name": "ipython",
    "version": 3
   },
   "file_extension": ".py",
   "mimetype": "text/x-python",
   "name": "python",
   "nbconvert_exporter": "python",
   "pygments_lexer": "ipython3",
   "version": "3.7.3"
  }
 },
 "nbformat": 4,
 "nbformat_minor": 2
}
