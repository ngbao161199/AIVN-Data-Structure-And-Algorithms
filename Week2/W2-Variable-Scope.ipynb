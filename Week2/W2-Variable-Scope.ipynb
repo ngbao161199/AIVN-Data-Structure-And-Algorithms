{
 "cells": [
  {
   "cell_type": "markdown",
   "metadata": {},
   "source": [
    "# Phạm vi biến đổi\n",
    "\n",
    "Đầu tiên, ta cần nắm rõ khái niệm **ngữ cảnh (namespace)** và tầm quan trọng của chúng. \n",
    "\n",
    "Nhìn chung, **ngữ cảnh (namespace)** là một hệ thống định danh tên gọi duy nhất tránh sự mơ hồ. Và ở Python, namespace được thực hiện như cấu trúc dữ liệu dictionary.\n",
    "\n",
    "Điều quan trọng trong lập trình là phải hiểu các quy tắc phạm vi của các biến bên trong các hàm. Mỗi lần một hàm thực thi, ngữ cảnh cục bộ mới được tạo. Điều này thể hiện một môi trường cục bộ có chứa tên của các tham số và biến được gán bởi hàm.\n",
    "\n",
    "Để giải quyết ngữ cảnh khi một hàm được gọi, trình thông dịch Python trước tiên tìm kiếm ngữ cảnh cục bộ (nghĩa là chính hàm đó) và nếu không tìm thấy kết quả khớp, nó sẽ tìm kiếm ngữ cảnh toàn cục. \n",
    "\n",
    "Ngữ cảnh toàn cục này là module mà trong đó chức năng sẽ được xác định. Nếu ngữ cảnh vẫn không được tìm thấy, nó tìm kiếm ngữ cảnh được dựng sẵn (**Built-in namespace**). Và với các ngữ cảnh được dựng sẵn, bạn có thể hình dung không gian này chứa các hàm được dựng sẵn đơn cử **abs()**, **cmp()**,... \n",
    "\n",
    "Cuối cùng, nếu việc tìm kiếm thất bại và bạn sẽ nhận được một thông báo ngoại lệ mang tên **NameError**. \n",
    "\n",
    "\n",
    "Hãy xem xét các mã sau đây:"
   ]
  },
  {
   "cell_type": "code",
   "execution_count": 1,
   "metadata": {},
   "outputs": [
    {
     "name": "stdout",
     "output_type": "stream",
     "text": [
      "11\n",
      "20\n"
     ]
    }
   ],
   "source": [
    "a=10; b=20\n",
    "\n",
    "def my_function():\n",
    "    global a\n",
    "    a=11; b=21\n",
    "\n",
    "my_function()\n",
    "print(a) #prints 11\n",
    "print(b) #prints 20"
   ]
  },
  {
   "cell_type": "markdown",
   "metadata": {},
   "source": [
    "Với đoạn code được thực thi, ta khai báo 2 biến toàn cục với a và b. Ta cần thông báo cho trình biên dịch với từ khoá **global** cho biến **a** trong hàm thực thi sẽ giúp ta tham chiếu đến biến toàn cục. Và trong hàm thực thi khi ta thay đổi a = 11, chúng cũng ảnh hưởng đến giá trị của biến toàn cục. \n",
    "\n",
    "Ở mặt khác, hãy nhìn việc thay đổi khi khai báo b=21 thì chúng không thay đổi bởi b chỉ là biến cục bộ và việc thay đổi không ảnh hưởng đến biến toàn cục. Đó là lý do khi ta xuất b chúng vẫn giữ giá trị 20 như khai báo ở biến toàn cục ban đầu."
   ]
  },
  {
   "cell_type": "code",
   "execution_count": null,
   "metadata": {},
   "outputs": [],
   "source": []
  }
 ],
 "metadata": {
  "kernelspec": {
   "display_name": "Python 3",
   "language": "python",
   "name": "python3"
  },
  "language_info": {
   "codemirror_mode": {
    "name": "ipython",
    "version": 3
   },
   "file_extension": ".py",
   "mimetype": "text/x-python",
   "name": "python",
   "nbconvert_exporter": "python",
   "pygments_lexer": "ipython3",
   "version": "3.7.3"
  }
 },
 "nbformat": 4,
 "nbformat_minor": 2
}
