{
 "cells": [
  {
   "cell_type": "markdown",
   "metadata": {},
   "source": [
    "# Tìm hiểu về Luồng điều khiển and vòng lặp\n",
    "\n",
    "Các chương trình Python bao gồm một chuỗi các câu lệnh. Trình biên dịch thực thi mỗi câu lệnh theo thứ tự cho đến khi không còn câu lệnh nào. Điều này đúng nếu cả hai tệp tin đều chạy dưới dạng chương trình chính cũng như các tập tin được tải thông qua lệnh **import**. Tất cả các lệnh bao gồm cả biến gán, định nghĩa hàm, định nghĩa lớp và nhập module,... đều luôn có trạng thái bằng nhau.\n",
    "\n",
    "![](https://www.tenouk.com/Module6_files/programcontrol024.png)\n",
    "\n",
    "Không có khai báo lệnh đặc biệt nào có mức độ ưu tiên cao hơn các lệnh khác và mỗi lệnh đều có hiện xuất hiện ở bất kỳ đâu trong một chương trình. Tuy nhiên, ta có hai cách kiểm soát chính các câu lệnh trong một chương trình. Đó là khai báo báo cáo điều kiện và vòng lặp.\n",
    "\n",
    "Lệnh if trong python được sử dụng để kiểm tra giá trị dạng boolean của điều kiện. Lệnh này trả về giá trị True hoặc False . Có các kiểu của Lệnh if-else trong python như sau:\n",
    "- Lệnh if\n",
    "- Lệnh if-else\n",
    "- Lệnh if-elif-else\n",
    "\n",
    "Với **if**, **else** và **elif** là các lệnh điều kiện giúp chúng ta có thể kiểm soát các lệnh trong chương trình:\n",
    "- Ở lệnh **if** - Chúng được sử dụng để kiểm tra một điều kiện, nếu điều kiện là true thì lệnh của khối if sẽ được thực thi, nếu không nó sẽ bị bỏ qua.\n",
    "- Ở lệnh **elif** - Lệnh elif cho phép bạn kiểm tra nhiều điều kiện và thực thi khối code ngay khi một trong các điều kiện được ước lượng là true. Ở Python, bạn có thể **sử dụng nhiều elif theo sau if**.\n",
    "- Ở lệnh **else** - Một lệnh else chứa khối code thực thi biểu thức điều kiện ngược lại so với lệnh **if**. Lệnh else là lệnh tùy ý và chỉ có duy nhất một lệnh else sau lệnh if.\n",
    "\n",
    "\n",
    "Bạn có thể hình dung một format chuẩn với lệnh **if**, **elif** và kết thúc qua lệnh **else** từ chương trình sau:"
   ]
  },
  {
   "cell_type": "code",
   "execution_count": 1,
   "metadata": {},
   "outputs": [
    {
     "name": "stdout",
     "output_type": "stream",
     "text": [
      "Something else\n"
     ]
    }
   ],
   "source": [
    "x = 'one'\n",
    "\n",
    "if x==0: \n",
    "    print('False')\n",
    "elif x==1: \n",
    "    print('True')\n",
    "else: print('Something else')\n",
    "# Chương trình sẽ in ra 'Something else'"
   ]
  },
  {
   "cell_type": "markdown",
   "metadata": {},
   "source": [
    "Lưu ý: \n",
    "- Việc sử dụng toán tử **==** để kiểm tra các giá trị tương tự. Chương trình trả về **true** nếu các giá trị bằng nhau; nó trả về **false** nếu không. \n",
    "- Nếu cài đặt x thành chuỗi sẽ trả về lỗi nếu lập trình trên ngôn ngữ không phải là Dynamically-typed Language. Duy chỉ các ngôn ngữ này mới cho phép gán linh hoạt của các đối tượng với các loại khác nhau.\n",
    "\n",
    "Ta cũng có một cách khác để kiểm soát dòng chương trình qua việc sử dụng các vòng lặp. Chúng được tạo bằng lệnh **while** qua khai báo, ví dụ:"
   ]
  },
  {
   "cell_type": "code",
   "execution_count": 3,
   "metadata": {},
   "outputs": [
    {
     "name": "stdout",
     "output_type": "stream",
     "text": [
      "0\n",
      "1\n",
      "2\n"
     ]
    }
   ],
   "source": [
    "x = 0\n",
    "\n",
    "while x < 3 : print(x); x+=1"
   ]
  },
  {
   "cell_type": "markdown",
   "metadata": {},
   "source": [
    "**Ghi chú**: Python không cung cấp các lệnh switch hoặc case như trong các ngôn ngữ lập trình khác (điển hình là C/ C++). Tuy nhiên, bạn có thể sử dụng các lệnh if…elif để thực hiện vai trò như của switch hoặc case."
   ]
  },
  {
   "cell_type": "code",
   "execution_count": null,
   "metadata": {},
   "outputs": [],
   "source": []
  }
 ],
 "metadata": {
  "kernelspec": {
   "display_name": "Python 3",
   "language": "python",
   "name": "python3"
  },
  "language_info": {
   "codemirror_mode": {
    "name": "ipython",
    "version": 3
   },
   "file_extension": ".py",
   "mimetype": "text/x-python",
   "name": "python",
   "nbconvert_exporter": "python",
   "pygments_lexer": "ipython3",
   "version": "3.7.3"
  }
 },
 "nbformat": 4,
 "nbformat_minor": 2
}
