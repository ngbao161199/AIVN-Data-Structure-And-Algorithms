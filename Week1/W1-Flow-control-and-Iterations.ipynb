{
 "cells": [
  {
   "cell_type": "markdown",
   "metadata": {},
   "source": [
    "# Tìm hiểu về Luồng điều khiển and vòng lặp\n",
    "\n",
    "Các chương trình Python bao gồm một chuỗi các câu lệnh. Trình biên dịch thực thi mỗi câu lệnh theo thứ tự cho đến khi không còn câu lệnh nào. Điều này đúng nếu cả hai tệp tin đều chạy dưới dạng chương trình chính cũng như các tập tin được tải thông qua lệnh **import**. Tất cả các lệnh bao gồm cả biến gán, định nghĩa hàm, định nghĩa lớp và nhập module,... đều luôn có trạng thái bằng nhau.\n",
    "\n",
    "![](https://www.tenouk.com/Module6_files/programcontrol024.png)\n",
    "\n",
    "Không có khai báo lệnh đặc biệt nào có mức độ ưu tiên cao hơn các lệnh khác và mỗi lệnh đều có hiện xuất hiện ở bất kỳ đâu trong một chương trình. Tuy nhiên, ta có hai cách kiểm soát chính các câu lệnh trong một chương trình. Đó là khai báo báo cáo điều kiện và vòng lặp.\n",
    "\n",
    "Trong lập trình, ta sẽ tiếp cận thêm khái niệm luồng điều khiển với 3 cấu trúc điều khiển cơ bản:\n",
    "1. **Cấu trúc tuần tự**: là cách tổ chức các lệnh thành từng khối. \n",
    "2. **Cấu trúc rẽ nhánh**: bao gồm các cấu trúc **if - elif -  else**\n",
    "3. **Cấu trúc lặp**: bao gồm các cấu trúc điển hình như **for** và **while**.\n",
    "\n",
    "![](https://i.imgur.com/U4Os1lF.png?1)\n",
    "\n",
    "Tại bài học này, chúng ta sẽ tập trung chi tiết vào **Cấu trúc rẽ nhánh** và **Cấu trúc lặp**.\n",
    "\n",
    "## Cấu trúc rẽ nhánh\n",
    "\n",
    "Lệnh if trong python được sử dụng để kiểm tra giá trị dạng boolean của điều kiện. Lệnh này trả về giá trị True hoặc False . Có các kiểu của Lệnh if-else trong python như sau:\n",
    "- Lệnh if\n",
    "- Lệnh if-else\n",
    "- Lệnh if-elif-else\n",
    "\n",
    "![](https://i.imgur.com/kQAxavH.png?1)\n",
    "\n",
    "Ở lệnh **if** - Chúng được sử dụng để kiểm tra một điều kiện, nếu điều kiện là true thì lệnh của khối if sẽ được thực thi, nếu không nó sẽ bị bỏ qua.\n",
    "\n",
    "Ở lệnh **elif** - Lệnh elif cho phép bạn kiểm tra nhiều điều kiện và thực thi khối code ngay khi một trong các điều kiện được ước lượng là true. Ở Python, bạn có thể **sử dụng nhiều elif theo sau if**.\n",
    "\n",
    "![](https://i.imgur.com/aqwOZb8.png?1)\n",
    "\n",
    "Ở lệnh **else** - Một lệnh else chứa khối code thực thi biểu thức điều kiện ngược lại so với lệnh **if**. Lệnh else là lệnh tùy ý và chỉ có duy nhất một lệnh else sau lệnh if.\n",
    "\n",
    "\n",
    "Bạn có thể hình dung một format chuẩn với lệnh **if**, **elif** và kết thúc qua lệnh **else** từ chương trình sau:"
   ]
  },
  {
   "cell_type": "code",
   "execution_count": 1,
   "metadata": {},
   "outputs": [
    {
     "name": "stdout",
     "output_type": "stream",
     "text": [
      "Something else\n"
     ]
    }
   ],
   "source": [
    "x = 'one'\n",
    "\n",
    "if x==0: \n",
    "    print('False')\n",
    "elif x==1: \n",
    "    print('True')\n",
    "else: print('Something else')\n",
    "# Chương trình sẽ in ra 'Something else'"
   ]
  },
  {
   "cell_type": "markdown",
   "metadata": {},
   "source": [
    "**Lưu ý**: \n",
    "- Việc sử dụng toán tử **==** để kiểm tra các giá trị tương tự. Chương trình trả về **true** nếu các giá trị bằng nhau; nó trả về **false** nếu không. \n",
    "- Nếu cài đặt x thành chuỗi sẽ trả về lỗi nếu lập trình trên ngôn ngữ không phải là Dynamically-typed Language. Duy chỉ các ngôn ngữ này mới cho phép gán linh hoạt của các đối tượng với các loại khác nhau.\n",
    "\n",
    "## Cấu trúc lặp\n",
    "\n",
    "Ta cũng có một cách khác để kiểm soát chương trình qua việc sử dụng các vòng lặp. Trước tiên ta hãy cùng nhau đặt 1 vấn đề cơ bản.\n",
    "> Ta dễ dàng viết 1 chương trình xuất ra các số từ 1 đến 10 qua 10 lệnh print()\n",
    "> Nếu ta tăng tầm giá trị yêu cầu từ 1 đến 1 triệu => Ta cần đến 1 triệu câu lệnh print() và rõ ràng rất tốn bộ nhớ lẫn thời gian\n",
    "\n",
    "Qua đó, ta có thể sử dụng cấu trúc lặp nhằm lặp lại một hành động trong khi còn thỏa một điều kiện nào đó. \n",
    "\n",
    "\n",
    "\n",
    "### Cấu trúc vòng lặp for\n",
    "![](http://net-informations.com/python/flow/img/for-loop.png)\n",
    "<br>\n",
    "\n",
    "Ở Python, một vòng lặp for được sử dụng để lặp qua một dãy (đó thể là danh sách, bộ dữ liệu, dict, tập hợp hoặc chuỗi).\n",
    "\n",
    "Ví dụ vòng lặp **for** theo danh sách:"
   ]
  },
  {
   "cell_type": "code",
   "execution_count": 4,
   "metadata": {},
   "outputs": [
    {
     "name": "stdout",
     "output_type": "stream",
     "text": [
      "AI\n",
      "Viet\n",
      "Nam\n"
     ]
    }
   ],
   "source": [
    "_list = ['AI', \"Viet\", \"Nam\"]\n",
    "for x in _list:\n",
    "  print(x)"
   ]
  },
  {
   "cell_type": "markdown",
   "metadata": {},
   "source": [
    "Ngay cả các chuỗi là các đối tượng cũng có thể lặp lại, chúng chứa một chuỗi các ký tự như sau:"
   ]
  },
  {
   "cell_type": "code",
   "execution_count": 6,
   "metadata": {},
   "outputs": [
    {
     "name": "stdout",
     "output_type": "stream",
     "text": [
      "A\n",
      "I\n",
      " \n",
      "V\n",
      "N\n"
     ]
    }
   ],
   "source": [
    "for x in \"AI VN\":\n",
    "  print(x)"
   ]
  },
  {
   "cell_type": "markdown",
   "metadata": {},
   "source": [
    "Để lặp qua một dãy với số lần xác định, chúng ta có thể sử dụng hàm phạm vi range() như sau:"
   ]
  },
  {
   "cell_type": "code",
   "execution_count": 7,
   "metadata": {},
   "outputs": [
    {
     "name": "stdout",
     "output_type": "stream",
     "text": [
      "0\n",
      "1\n",
      "2\n",
      "3\n",
      "4\n",
      "5\n"
     ]
    }
   ],
   "source": [
    "for x in range(6):\n",
    "  print(x)"
   ]
  },
  {
   "cell_type": "markdown",
   "metadata": {},
   "source": [
    "**Lưu ý**: Phạm vi range(6) không phải là các giá trị từ 0 đến 6, mà là các giá trị từ 0 đến 5.\n",
    "\n",
    "Hàm phạm vi range() mặc định là 0 làm giá trị bắt đầu, tuy nhiên có thể chỉ định giá trị bắt đầu bằng cách thêm một tham số: phạm vi (1, 5), có nghĩa là các giá trị từ 1 đến 5 (nhưng không bao gồm 5):"
   ]
  },
  {
   "cell_type": "code",
   "execution_count": 8,
   "metadata": {},
   "outputs": [
    {
     "name": "stdout",
     "output_type": "stream",
     "text": [
      "1\n",
      "2\n",
      "3\n",
      "4\n"
     ]
    }
   ],
   "source": [
    "for x in range(1,5):\n",
    "  print(x)"
   ]
  },
  {
   "cell_type": "markdown",
   "metadata": {},
   "source": [
    "Hàm phạm vi range() mặc định để tăng chuỗi lên 1, tuy nhiên có thể chỉ định giá trị tăng bằng cách thêm tham số thứ ba. Ví dụ:"
   ]
  },
  {
   "cell_type": "code",
   "execution_count": 9,
   "metadata": {},
   "outputs": [
    {
     "name": "stdout",
     "output_type": "stream",
     "text": [
      "0\n",
      "2\n",
      "4\n",
      "6\n"
     ]
    }
   ],
   "source": [
    "for x in range(0, 8, 2):\n",
    "  print(x)"
   ]
  },
  {
   "cell_type": "markdown",
   "metadata": {},
   "source": [
    "Ta có thể kết thúc vòng lặp bằng lệnh **break** và **if**, ví dụ:"
   ]
  },
  {
   "cell_type": "code",
   "execution_count": 11,
   "metadata": {},
   "outputs": [
    {
     "name": "stdout",
     "output_type": "stream",
     "text": [
      "1\n",
      "2\n",
      "3\n"
     ]
    }
   ],
   "source": [
    "_list = [1, 2, 3, 4, 5]\n",
    "for x in _list:\n",
    "  print(x)\n",
    "  if x == 3:\n",
    "    break"
   ]
  },
  {
   "cell_type": "code",
   "execution_count": 12,
   "metadata": {},
   "outputs": [
    {
     "name": "stdout",
     "output_type": "stream",
     "text": [
      "1\n",
      "2\n"
     ]
    }
   ],
   "source": [
    "_list = [1, 2, 3, 4, 5]\n",
    "for x in _list:\n",
    "  if x == 3:\n",
    "    break\n",
    "  print(x)"
   ]
  },
  {
   "cell_type": "markdown",
   "metadata": {},
   "source": [
    "Với câu lệnh **continue**, chúng ta có thể dừng vòng lặp hiện tại của vòng lặp và tiếp tục với câu lệnh tiếp theo:"
   ]
  },
  {
   "cell_type": "code",
   "execution_count": 14,
   "metadata": {},
   "outputs": [
    {
     "name": "stdout",
     "output_type": "stream",
     "text": [
      "1\n",
      "2\n",
      "4\n",
      "5\n"
     ]
    }
   ],
   "source": [
    "_list = [1, 2, 3, 4, 5]\n",
    "for x in _list:\n",
    "  if x == 3:\n",
    "    continue\n",
    "  print(x)"
   ]
  },
  {
   "cell_type": "markdown",
   "metadata": {},
   "source": [
    "### Cấu trúc vòng lặp while\n",
    "\n",
    "![](https://i.imgur.com/gkSdmat.png?1)\n",
    "<br>\n",
    "\n",
    "Với vòng lặp **while**, chúng ta có thể thực thi một tập hợp các câu lệnh miễn là điều kiện là đúng.\n",
    "\n",
    "Ta có thể tạo một cấu trúc vòng lặp **while** đơn giản như sau:"
   ]
  },
  {
   "cell_type": "code",
   "execution_count": 15,
   "metadata": {},
   "outputs": [
    {
     "name": "stdout",
     "output_type": "stream",
     "text": [
      "0\n",
      "1\n",
      "2\n"
     ]
    }
   ],
   "source": [
    "x = 0\n",
    "\n",
    "while x < 3 : \n",
    "    print(x)\n",
    "    x+=1"
   ]
  },
  {
   "cell_type": "markdown",
   "metadata": {},
   "source": [
    "Kết hợp cùng lệnh **break** và thoát khỏi vòng lặp khi x == 2"
   ]
  },
  {
   "cell_type": "code",
   "execution_count": 16,
   "metadata": {},
   "outputs": [
    {
     "name": "stdout",
     "output_type": "stream",
     "text": [
      "0\n",
      "1\n",
      "2\n"
     ]
    }
   ],
   "source": [
    "x = 0\n",
    "while x < 3:\n",
    "  print(x)\n",
    "  if x == 2:\n",
    "    break\n",
    "  x += 1"
   ]
  },
  {
   "cell_type": "markdown",
   "metadata": {},
   "source": [
    "Tương tự với lệnh **continue**:"
   ]
  },
  {
   "cell_type": "code",
   "execution_count": 18,
   "metadata": {},
   "outputs": [
    {
     "name": "stdout",
     "output_type": "stream",
     "text": [
      "1\n",
      "3\n"
     ]
    }
   ],
   "source": [
    "x = 0\n",
    "while x < 3:\n",
    "  x += 1\n",
    "  if x == 2:\n",
    "    continue\n",
    "  print(x)"
   ]
  },
  {
   "cell_type": "markdown",
   "metadata": {},
   "source": [
    "**Ghi chú**: Python không cung cấp các lệnh switch hoặc case như trong các ngôn ngữ lập trình khác (điển hình là C/ C++). Tuy nhiên, bạn có thể sử dụng các lệnh if…elif để thực hiện vai trò như của switch hoặc case."
   ]
  }
 ],
 "metadata": {
  "kernelspec": {
   "display_name": "Python 3",
   "language": "python",
   "name": "python3"
  },
  "language_info": {
   "codemirror_mode": {
    "name": "ipython",
    "version": 3
   },
   "file_extension": ".py",
   "mimetype": "text/x-python",
   "name": "python",
   "nbconvert_exporter": "python",
   "pygments_lexer": "ipython3",
   "version": "3.7.3"
  }
 },
 "nbformat": 4,
 "nbformat_minor": 2
}
