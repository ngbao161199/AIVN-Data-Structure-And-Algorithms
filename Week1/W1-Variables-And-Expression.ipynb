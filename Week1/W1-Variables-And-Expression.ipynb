{
"# Biến và cách biểu diễn trong Python\n",
    "\n",
    "Để chuyển đổi vấn đề thực tế thành vấn đề giải quyết được bằng thuật toán, sẽ có hai công đoạn liên quan đến nhau. Thứ nhất, lựa chọn các biến để thể hiện và thứ hai, lựa chọn cách biểu diễn liên quan đến những biến đã chọn.\n",
    "\n",
    "Có thể nói **Biến (Variable)** là các tên gọi đại diện cho đối tượng ta cần xây dựng. Một biến không chứa đối tượng, thay vào đó nó hoạt động như con trỏ hoặc tham chiếu đến một đối tượng. \n",
    "\n",
    "Trong Python, chúng ta không cần khai báo biến một cách tường minh. Khi bạn gán bất cứ giá trị nào cho biến thì biến đó được khai báo một cách tự động. Phép gán được thực hiện bởi toán tử =. Toán hạng trái của toán tử = là tên biến và toán hạng phải là giá trị được lưu trữ trong biến. \n",
    "\n",
    "Ví dụ:"
   ]
  },
  {
   "cell_type": "code",
   "execution_count": 1,
   "metadata": {},
   "outputs": [
    {
     "data": {
      "text/plain": [
       "[1, 2, 3, 4]"
      ]
     },
     "execution_count": 1,
     "metadata": {},
     "output_type": "execute_result"
    }
   ],
   "source": [
    "a = [1,2,3]\n",
    "\n",
    "b = a\n",
    "\n",
    "a.append(4)\n",
    "\n",
    "b"
   ]
  },
  {
   "cell_type": "markdown",
   "metadata": {},
   "source": [
    "Ở đây chúng ta đã tạo một biến a với nhiệm vụ trỏ đến một đối tượng danh sách. Chúng ta cũng tạo một biến khác b trỏ đến cùng một đối tượng danh sách của a. Khi chúng ta thêm phần tử vào đối tượng danh sách này, sự thay đổi được phản ánh trong cả a và b.\n",
    "\n",
    "**Tìm hiểu thêm về phép đa gán (multiple assignment)**\n",
    "\n",
    "Qua ví dụ trên, ta cũng phần nào tìm hiểu về phép gán cơ bản qua Python. Tuy nhiên, ở Python ta còn có thể gán một giá trị đơn cho nhiều biến cùng một lúc. Hãy cùng tìm hiểu 2 kiểu đa gán được hỗ trợ bởi Python qua ví dụ bên dưới."
   ]
  },
  {
   "cell_type": "code",
   "execution_count": 5,
   "metadata": {},
   "outputs": [
    {
     "name": "stdout",
     "output_type": "stream",
     "text": [
      "1   1   1\n"
     ]
    }
   ],
 "metadata": {
  "kernelspec": {
   "display_name": "Python 3",
   "language": "python",
   "name": "python3"
  },
  "language_info": {
   "codemirror_mode": {
    "name": "ipython",
    "version": 3
   },
   "file_extension": ".py",
   "mimetype": "text/x-python",
   "name": "python",
   "nbconvert_exporter": "python",
   "pygments_lexer": "ipython3",
   "version": "3.7.3"
  }
 },
 "nbformat": 4,
 "nbformat_minor": 2
}
